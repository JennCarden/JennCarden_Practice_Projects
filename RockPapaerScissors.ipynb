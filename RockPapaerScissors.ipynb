{
 "cells": [
  {
   "cell_type": "code",
   "execution_count": 1,
   "id": "59601c16",
   "metadata": {},
   "outputs": [],
   "source": [
    "import random\n",
    "import time"
   ]
  },
  {
   "cell_type": "markdown",
   "id": "bfea7066",
   "metadata": {},
   "source": [
    "Load Python Libraries "
   ]
  },
  {
   "cell_type": "code",
   "execution_count": 2,
   "id": "b9d4fc92",
   "metadata": {},
   "outputs": [],
   "source": [
    "rock = 1\n",
    "paper = 2\n",
    "scissors = 3\n",
    "\n",
    "names = {rock: \"Rock\", paper: \"Paper\", scissors: \"Scissors\"}\n",
    "rules = {rock: scissors, paper: rock, scissors: paper}\n",
    "\n",
    "player_score = 0\n",
    "computer_score = 0"
   ]
  },
  {
   "cell_type": "markdown",
   "id": "9e76f160",
   "metadata": {},
   "source": [
    "Describe initial game rules and define the three variables and their relationship to the game. "
   ]
  },
  {
   "cell_type": "code",
   "execution_count": 3,
   "id": "1e8a499c",
   "metadata": {},
   "outputs": [],
   "source": [
    "def start():\n",
    "    print (\"Let's play a game of Rock, Paper, Scissors.\")\n",
    "    while game():\n",
    "        pass\n",
    "    scores()"
   ]
  },
  {
   "cell_type": "markdown",
   "id": "ad41b8e1",
   "metadata": {},
   "source": [
    "Start game code by defining the start of the game"
   ]
  },
  {
   "cell_type": "code",
   "execution_count": 4,
   "id": "26ff6438",
   "metadata": {},
   "outputs": [],
   "source": [
    "def game():\n",
    "    player = move()\n",
    "    computer = random.randint (1, 3)\n",
    "    result (player, computer)\n",
    "    return play_again()"
   ]
  },
  {
   "cell_type": "markdown",
   "id": "ac342946",
   "metadata": {},
   "source": [
    "Contents of game are here!"
   ]
  },
  {
   "cell_type": "code",
   "execution_count": 5,
   "id": "c189875c",
   "metadata": {},
   "outputs": [],
   "source": [
    "def move():\n",
    "    while True:\n",
    "        print()\n",
    "        player = input(\"Rock = 1\\nPaper = 2\\nScissors = 3\\nMake a move: \")\n",
    "        try:\n",
    "            player = int(player)\n",
    "            if player in (1,2,3):\n",
    "                return player\n",
    "        except ValueError:\n",
    "                pass\n",
    "        print (\"Oops! I didn't understand that. Please enter 1, 2 or 3.\")"
   ]
  },
  {
   "cell_type": "markdown",
   "id": "a2f68158",
   "metadata": {},
   "source": [
    "Give player information on how to play this particular game version and allow choices to be used in next steps"
   ]
  },
  {
   "cell_type": "code",
   "execution_count": 6,
   "id": "d0d79cc4",
   "metadata": {},
   "outputs": [],
   "source": [
    "def result (player, computer):\n",
    "    print (\"1...\")\n",
    "    time.sleep(1)\n",
    "    print (\"2...\")\n",
    "    time.sleep(1)\n",
    "    print(\"3!\")\n",
    "    time.sleep(0.5)\n",
    "    print (\"Computer threw (0) !\" .format (names[computer]))\n",
    "    global player_score, computer_score\n",
    "    if player == computer:\n",
    "        print(\"Tie game.\")\n",
    "    else:\n",
    "        if rules[player] == computer: \n",
    "            print (\"Your victory has been assured.\")\n",
    "            player_score += 1\n",
    "        else: \n",
    "            print(\"The computer laughs as you realise you habe been defeated.\")\n",
    "            computer_score += 1"
   ]
  },
  {
   "cell_type": "markdown",
   "id": "e7d543dd",
   "metadata": {},
   "source": [
    "Several things happening here \n",
    "1) Put in delay count\n",
    "2)Appending a variable to some printed text\n",
    "3) Comparing what the player and computer did"
   ]
  },
  {
   "cell_type": "code",
   "execution_count": 7,
   "id": "92d7de2b",
   "metadata": {},
   "outputs": [],
   "source": [
    "def play_again():\n",
    "    answer = input(\"Would you like to play again? y/n: \")\n",
    "    if answer in (\"y\", \"Y\", \"yes\", \"Yes\", \"yep\", \"Yep\"):\n",
    "        return answer\n",
    "    else:\n",
    "        print(\"Thank you very much for playing our game. See you next time!\")"
   ]
  },
  {
   "cell_type": "markdown",
   "id": "0ed8ac41",
   "metadata": {},
   "source": [
    "Play again option"
   ]
  },
  {
   "cell_type": "code",
   "execution_count": 8,
   "id": "413ee10a",
   "metadata": {},
   "outputs": [],
   "source": [
    "def scores():\n",
    "    global player_score, computer_score\n",
    "    print (\"HIGH SCORES\")\n",
    "    print (\"Player: \"), player_score\n",
    "    print (\"Computer: \"), computer_score\n",
    "    \n",
    "if __name__ == '__main__':\n",
    "    start"
   ]
  },
  {
   "cell_type": "code",
   "execution_count": 9,
   "id": "d0291432",
   "metadata": {},
   "outputs": [
    {
     "name": "stdout",
     "output_type": "stream",
     "text": [
      "Let's play a game of Rock, Paper, Scissors.\n",
      "\n",
      "Rock = 1\n",
      "Paper = 2\n",
      "Scissors = 3\n",
      "Make a move: 1\n",
      "1...\n",
      "2...\n",
      "3!\n",
      "Computer threw (0) !\n",
      "Your victory has been assured.\n",
      "Would you like to play again? y/n: y\n",
      "\n",
      "Rock = 1\n",
      "Paper = 2\n",
      "Scissors = 3\n",
      "Make a move: 3\n",
      "1...\n",
      "2...\n",
      "3!\n",
      "Computer threw (0) !\n",
      "Tie game.\n",
      "Would you like to play again? y/n: n\n",
      "Thank you very much for playing our game. See you next time!\n",
      "HIGH SCORES\n",
      "Player: \n",
      "Computer: \n"
     ]
    }
   ],
   "source": [
    "start()"
   ]
  },
  {
   "cell_type": "code",
   "execution_count": null,
   "id": "96c87e9c",
   "metadata": {},
   "outputs": [],
   "source": []
  }
 ],
 "metadata": {
  "kernelspec": {
   "display_name": "Python 3",
   "language": "python",
   "name": "python3"
  },
  "language_info": {
   "codemirror_mode": {
    "name": "ipython",
    "version": 3
   },
   "file_extension": ".py",
   "mimetype": "text/x-python",
   "name": "python",
   "nbconvert_exporter": "python",
   "pygments_lexer": "ipython3",
   "version": "3.8.8"
  }
 },
 "nbformat": 4,
 "nbformat_minor": 5
}
