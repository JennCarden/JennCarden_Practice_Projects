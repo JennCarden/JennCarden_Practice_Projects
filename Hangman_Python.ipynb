{
 "cells": [
  {
   "cell_type": "code",
   "execution_count": 1,
   "id": "2490c2e4",
   "metadata": {},
   "outputs": [],
   "source": [
    "from random import *"
   ]
  },
  {
   "cell_type": "markdown",
   "id": "5a7bd9d3",
   "metadata": {},
   "source": [
    "Creates a varible to use throughout the code to keep track of scores"
   ]
  },
  {
   "cell_type": "code",
   "execution_count": 2,
   "id": "1c94ee6c",
   "metadata": {},
   "outputs": [],
   "source": [
    "player_score = 0\n",
    "computer_score = 0"
   ]
  },
  {
   "cell_type": "markdown",
   "id": "6364fd0c",
   "metadata": {},
   "source": [
    "A series of ASCII hangman stages. Stored in a function as a list of seperate string objects to be called upon by passing on the number of incorrect guesses. "
   ]
  },
  {
   "cell_type": "code",
   "execution_count": 3,
   "id": "06da5c14",
   "metadata": {},
   "outputs": [],
   "source": [
    "def hangedman(hangman):\n",
    "    graphic = [\n",
    "    \"\"\"\n",
    "        +-------+\n",
    "        |\n",
    "        |\n",
    "        |\n",
    "        |\n",
    "        |\n",
    "      ==============\n",
    "    \"\"\",\n",
    "    \"\"\"\n",
    "        +-------+\n",
    "        |       |\n",
    "        |       o\n",
    "        |\n",
    "        |\n",
    "        |\n",
    "      ===============\n",
    "     \"\"\",\n",
    "     \"\"\"\n",
    "        +-------+\n",
    "        |       |\n",
    "        |       o\n",
    "        |       |\n",
    "        |    \n",
    "        |\n",
    "      ===============   \n",
    "    \"\"\",\n",
    "    \"\"\"\n",
    "         +-------+\n",
    "        |       |\n",
    "        |       o\n",
    "        |      -|\n",
    "        |    \n",
    "        |\n",
    "      ===============  \n",
    "    \"\"\",\n",
    "    \"\"\"\n",
    "         +-------+\n",
    "        |       |\n",
    "        |       o\n",
    "        |      -|-\n",
    "        |    \n",
    "        |\n",
    "      ===============  \n",
    "    \"\"\",\n",
    "    \"\"\"\n",
    "         +-------+\n",
    "        |       |\n",
    "        |       o\n",
    "        |      -|-\n",
    "        |      /   \n",
    "        |\n",
    "      ===============\n",
    "    \"\"\",\n",
    "    \"\"\"\n",
    "         +-------+\n",
    "        |       |\n",
    "        |       o\n",
    "        |      -|-\n",
    "        |      / \\    \n",
    "        |\n",
    "      ===============  \n",
    "    \"\"\"]\n",
    "    print(graphic[hangman])\n",
    "    return"
   ]
  },
  {
   "cell_type": "markdown",
   "id": "d2abf375",
   "metadata": {},
   "source": [
    "The start of the actual game. Printing greeting to the player"
   ]
  },
  {
   "cell_type": "code",
   "execution_count": 4,
   "id": "7aad0c56",
   "metadata": {},
   "outputs": [],
   "source": [
    "def start():\n",
    "    print(\"Let's play a game of Hangman.\")\n",
    "    while game():\n",
    "        pass\n",
    "    scores()"
   ]
  },
  {
   "cell_type": "markdown",
   "id": "14e1fccc",
   "metadata": {},
   "source": [
    "Putting majority of the game code here. Created a function called game. Included the words for the player to guess, rules and idividule variables to keep track of during the game. Only 6 guesses before \"Hangman\" is drawn so set tries to 6. Also included a while loop to preform the player selection and check status of the game. "
   ]
  },
  {
   "cell_type": "code",
   "execution_count": 5,
   "id": "c6e95805",
   "metadata": {},
   "outputs": [],
   "source": [
    "def game():\n",
    "    dictionary = [\"data\", \"kernal\", \"windows\", \"snowflake\", \"python\"]\n",
    "    word = choice(dictionary)\n",
    "    word_length = len(word)\n",
    "    clue = word_length *[\"_\"]\n",
    "    tries = 6\n",
    "    letters_tried = \"\"\n",
    "    guesses = 0\n",
    "    letters_right = 0\n",
    "    letters_wrong = 0\n",
    "    global computer_score, player_score\n",
    "    \n",
    "    while (letters_wrong != tries) and (\"\".join(clue) != word):\n",
    "        letter = guess_letter()\n",
    "        if len(letter ) == 1 and letter.isalpha():\n",
    "            if letters_tried.find(letter) != -1:\n",
    "                print(\"You've already picked\", letter)\n",
    "                \n",
    "        else:\n",
    "            letters_tried = letters_tried + letter\n",
    "            first_index=word.find(letter)\n",
    "            if first_index == -1:\n",
    "                letters_wrong +=1\n",
    "                print(\"Sorry,\",letter, \"isn't what we're looking for.\")\n",
    "                \n",
    "            else:\n",
    "                print(\"Congratulations,\",letter,\"is correct.\")\n",
    "                for i in range(word_length):\n",
    "                    if letter == word[i]:\n",
    "                        clue[i] = letter\n",
    "                else:\n",
    "                    print(\"Choose another.\")\n",
    "                hangedman(letters_wrong)\n",
    "                print(\"\".join(clue))\n",
    "                print(\"Guesses: \", letters_tried)\n",
    "        \n",
    "                if letters_wrong == tries:\n",
    "                    print(\"Game Over.\")\n",
    "                    print(\"The word was\",word)\n",
    "                    computer_score +=1\n",
    "                    break\n",
    "                if \"\".join(clue) == word:\n",
    "                    print(\"You win!\")\n",
    "                    print (\"The word was\",word)\n",
    "                    player_score +=1\n",
    "                    break\n",
    "    return play_again()"
   ]
  },
  {
   "cell_type": "markdown",
   "id": "1922cc47",
   "metadata": {},
   "source": [
    "Allows for human input and prints out input message."
   ]
  },
  {
   "cell_type": "code",
   "execution_count": 6,
   "id": "851a31b6",
   "metadata": {},
   "outputs": [],
   "source": [
    "def guess_letter():\n",
    "    print()\n",
    "    letter = input(\"Take a guess at our mystery word:\")\n",
    "    letter.strip()\n",
    "    letter.lower()\n",
    "    print()\n",
    "    return letter"
   ]
  },
  {
   "cell_type": "markdown",
   "id": "2a60dc64",
   "metadata": {},
   "source": [
    "Asking if the play wishes to play again"
   ]
  },
  {
   "cell_type": "code",
   "execution_count": 7,
   "id": "75505b57",
   "metadata": {},
   "outputs": [],
   "source": [
    "def play_again():\n",
    "    answer = input(\"Would you like to play again? y/n: \")\n",
    "    if answer in (\"y\", \"Y\", \"yes\", \"Yes\", \"yep\", \"Yep\", \"of course\", \"Of course\", \"Of Course\"):\n",
    "        return answer\n",
    "    else:\n",
    "        print(\"Thank you very much for playing our game. See you next time!\")"
   ]
  },
  {
   "cell_type": "markdown",
   "id": "2caa6fe3",
   "metadata": {},
   "source": [
    "After the game finishes we display results."
   ]
  },
  {
   "cell_type": "code",
   "execution_count": 8,
   "id": "1cf3aa2a",
   "metadata": {},
   "outputs": [],
   "source": [
    "def scores():\n",
    "    global player_scores, computer_scores\n",
    "    print(\"HIGH SCORES\")\n",
    "    print(\"Player: \", player_score)\n",
    "    print(\"Computer: \", computer_score)\n",
    "    \n",
    "    if __name__ == '__main__':\n",
    "        start()"
   ]
  },
  {
   "cell_type": "code",
   "execution_count": null,
   "id": "77379117",
   "metadata": {},
   "outputs": [
    {
     "name": "stdout",
     "output_type": "stream",
     "text": [
      "Let's play a game of Hangman.\n",
      "\n",
      "Take a guess at our mystery word:windows\n",
      "\n",
      "Sorry, windows isn't what we're looking for.\n",
      "\n",
      "Take a guess at our mystery word:python\n",
      "\n",
      "Sorry, python isn't what we're looking for.\n",
      "\n",
      "Take a guess at our mystery word:kernal\n",
      "\n",
      "Congratulations, kernal is correct.\n",
      "Choose another.\n",
      "\n",
      "        +-------+\n",
      "        |       |\n",
      "        |       o\n",
      "        |       |\n",
      "        |    \n",
      "        |\n",
      "      ===============   \n",
      "    \n",
      "______\n",
      "Guesses:  windowspythonkernal\n",
      "\n"
     ]
    }
   ],
   "source": [
    "start()"
   ]
  },
  {
   "cell_type": "code",
   "execution_count": null,
   "id": "12c7d5bb",
   "metadata": {},
   "outputs": [],
   "source": []
  }
 ],
 "metadata": {
  "kernelspec": {
   "display_name": "Python 3",
   "language": "python",
   "name": "python3"
  },
  "language_info": {
   "codemirror_mode": {
    "name": "ipython",
    "version": 3
   },
   "file_extension": ".py",
   "mimetype": "text/x-python",
   "name": "python",
   "nbconvert_exporter": "python",
   "pygments_lexer": "ipython3",
   "version": "3.8.8"
  }
 },
 "nbformat": 4,
 "nbformat_minor": 5
}
